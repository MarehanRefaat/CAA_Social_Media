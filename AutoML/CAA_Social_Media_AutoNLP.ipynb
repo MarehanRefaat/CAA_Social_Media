{
  "nbformat": 4,
  "nbformat_minor": 0,
  "metadata": {
    "colab": {
      "name": "CAA_Social_Media_AutoNLP.ipynb",
      "provenance": [],
      "toc_visible": true
    },
    "kernelspec": {
      "name": "python3",
      "display_name": "Python 3"
    },
    "language_info": {
      "name": "python"
    },
    "accelerator": "GPU"
  },
  "cells": [
    {
      "cell_type": "markdown",
      "source": [
        "# Imports"
      ],
      "metadata": {
        "id": "14c8XisgWNmM"
      }
    },
    {
      "cell_type": "code",
      "metadata": {
        "colab": {
          "base_uri": "https://localhost:8080/"
        },
        "id": "LlDbyRxQwWQj",
        "outputId": "234ccc2c-7808-47f6-a317-2cb00dbcc3b8"
      },
      "source": [
        "# Upload data on google drive and call it in colab\n",
        "from google.colab import drive\n",
        "drive.mount('/content/drive')"
      ],
      "execution_count": null,
      "outputs": [
        {
          "output_type": "stream",
          "name": "stdout",
          "text": [
            "Mounted at /content/drive\n"
          ]
        }
      ]
    },
    {
      "cell_type": "code",
      "source": [
        "import pandas as pd\n",
        "import seaborn as sns"
      ],
      "metadata": {
        "id": "Pr6W_KZZWxc9"
      },
      "execution_count": null,
      "outputs": []
    },
    {
      "cell_type": "code",
      "source": [
        "from sklearn.metrics import accuracy_score"
      ],
      "metadata": {
        "id": "emwQ2WsgWyTb"
      },
      "execution_count": null,
      "outputs": []
    },
    {
      "cell_type": "code",
      "metadata": {
        "colab": {
          "base_uri": "https://localhost:8080/"
        },
        "id": "OOb6mJ2tg_aK",
        "outputId": "b0ff4e09-93fb-42ae-d888-b7348d614148"
      },
      "source": [
        "!pip install autoviml"
      ],
      "execution_count": null,
      "outputs": [
        {
          "output_type": "stream",
          "name": "stdout",
          "text": [
            "Collecting autoviml\n",
            "  Downloading autoviml-0.1.684-py3-none-any.whl (125 kB)\n",
            "\u001b[?25l\r\u001b[K     |██▋                             | 10 kB 24.4 MB/s eta 0:00:01\r\u001b[K     |█████▏                          | 20 kB 31.6 MB/s eta 0:00:01\r\u001b[K     |███████▉                        | 30 kB 37.1 MB/s eta 0:00:01\r\u001b[K     |██████████▍                     | 40 kB 40.1 MB/s eta 0:00:01\r\u001b[K     |█████████████                   | 51 kB 32.8 MB/s eta 0:00:01\r\u001b[K     |███████████████▋                | 61 kB 33.4 MB/s eta 0:00:01\r\u001b[K     |██████████████████▎             | 71 kB 25.6 MB/s eta 0:00:01\r\u001b[K     |████████████████████▉           | 81 kB 27.5 MB/s eta 0:00:01\r\u001b[K     |███████████████████████▌        | 92 kB 28.5 MB/s eta 0:00:01\r\u001b[K     |██████████████████████████      | 102 kB 30.1 MB/s eta 0:00:01\r\u001b[K     |████████████████████████████▊   | 112 kB 30.1 MB/s eta 0:00:01\r\u001b[K     |███████████████████████████████▎| 122 kB 30.1 MB/s eta 0:00:01\r\u001b[K     |████████████████████████████████| 125 kB 30.1 MB/s \n",
            "\u001b[?25hCollecting shap>=0.36.0\n",
            "  Downloading shap-0.40.0-cp37-cp37m-manylinux2010_x86_64.whl (564 kB)\n",
            "\u001b[?25l\r\u001b[K     |▋                               | 10 kB 29.5 MB/s eta 0:00:01\r\u001b[K     |█▏                              | 20 kB 33.3 MB/s eta 0:00:01\r\u001b[K     |█▊                              | 30 kB 39.5 MB/s eta 0:00:01\r\u001b[K     |██▎                             | 40 kB 41.1 MB/s eta 0:00:01\r\u001b[K     |███                             | 51 kB 40.7 MB/s eta 0:00:01\r\u001b[K     |███▌                            | 61 kB 43.7 MB/s eta 0:00:01\r\u001b[K     |████                            | 71 kB 44.3 MB/s eta 0:00:01\r\u001b[K     |████▋                           | 81 kB 43.4 MB/s eta 0:00:01\r\u001b[K     |█████▏                          | 92 kB 45.0 MB/s eta 0:00:01\r\u001b[K     |█████▉                          | 102 kB 46.4 MB/s eta 0:00:01\r\u001b[K     |██████▍                         | 112 kB 46.4 MB/s eta 0:00:01\r\u001b[K     |███████                         | 122 kB 46.4 MB/s eta 0:00:01\r\u001b[K     |███████▌                        | 133 kB 46.4 MB/s eta 0:00:01\r\u001b[K     |████████▏                       | 143 kB 46.4 MB/s eta 0:00:01\r\u001b[K     |████████▊                       | 153 kB 46.4 MB/s eta 0:00:01\r\u001b[K     |█████████▎                      | 163 kB 46.4 MB/s eta 0:00:01\r\u001b[K     |█████████▉                      | 174 kB 46.4 MB/s eta 0:00:01\r\u001b[K     |██████████▍                     | 184 kB 46.4 MB/s eta 0:00:01\r\u001b[K     |███████████                     | 194 kB 46.4 MB/s eta 0:00:01\r\u001b[K     |███████████▋                    | 204 kB 46.4 MB/s eta 0:00:01\r\u001b[K     |████████████▏                   | 215 kB 46.4 MB/s eta 0:00:01\r\u001b[K     |████████████▊                   | 225 kB 46.4 MB/s eta 0:00:01\r\u001b[K     |█████████████▍                  | 235 kB 46.4 MB/s eta 0:00:01\r\u001b[K     |██████████████                  | 245 kB 46.4 MB/s eta 0:00:01\r\u001b[K     |██████████████▌                 | 256 kB 46.4 MB/s eta 0:00:01\r\u001b[K     |███████████████                 | 266 kB 46.4 MB/s eta 0:00:01\r\u001b[K     |███████████████▋                | 276 kB 46.4 MB/s eta 0:00:01\r\u001b[K     |████████████████▎               | 286 kB 46.4 MB/s eta 0:00:01\r\u001b[K     |████████████████▉               | 296 kB 46.4 MB/s eta 0:00:01\r\u001b[K     |█████████████████▍              | 307 kB 46.4 MB/s eta 0:00:01\r\u001b[K     |██████████████████              | 317 kB 46.4 MB/s eta 0:00:01\r\u001b[K     |██████████████████▋             | 327 kB 46.4 MB/s eta 0:00:01\r\u001b[K     |███████████████████▏            | 337 kB 46.4 MB/s eta 0:00:01\r\u001b[K     |███████████████████▊            | 348 kB 46.4 MB/s eta 0:00:01\r\u001b[K     |████████████████████▎           | 358 kB 46.4 MB/s eta 0:00:01\r\u001b[K     |████████████████████▉           | 368 kB 46.4 MB/s eta 0:00:01\r\u001b[K     |█████████████████████▌          | 378 kB 46.4 MB/s eta 0:00:01\r\u001b[K     |██████████████████████          | 389 kB 46.4 MB/s eta 0:00:01\r\u001b[K     |██████████████████████▋         | 399 kB 46.4 MB/s eta 0:00:01\r\u001b[K     |███████████████████████▏        | 409 kB 46.4 MB/s eta 0:00:01\r\u001b[K     |███████████████████████▉        | 419 kB 46.4 MB/s eta 0:00:01\r\u001b[K     |████████████████████████▍       | 430 kB 46.4 MB/s eta 0:00:01\r\u001b[K     |█████████████████████████       | 440 kB 46.4 MB/s eta 0:00:01\r\u001b[K     |█████████████████████████▌      | 450 kB 46.4 MB/s eta 0:00:01\r\u001b[K     |██████████████████████████      | 460 kB 46.4 MB/s eta 0:00:01\r\u001b[K     |██████████████████████████▊     | 471 kB 46.4 MB/s eta 0:00:01\r\u001b[K     |███████████████████████████▎    | 481 kB 46.4 MB/s eta 0:00:01\r\u001b[K     |███████████████████████████▉    | 491 kB 46.4 MB/s eta 0:00:01\r\u001b[K     |████████████████████████████▍   | 501 kB 46.4 MB/s eta 0:00:01\r\u001b[K     |█████████████████████████████   | 512 kB 46.4 MB/s eta 0:00:01\r\u001b[K     |█████████████████████████████▋  | 522 kB 46.4 MB/s eta 0:00:01\r\u001b[K     |██████████████████████████████▏ | 532 kB 46.4 MB/s eta 0:00:01\r\u001b[K     |██████████████████████████████▊ | 542 kB 46.4 MB/s eta 0:00:01\r\u001b[K     |███████████████████████████████▎| 552 kB 46.4 MB/s eta 0:00:01\r\u001b[K     |████████████████████████████████| 563 kB 46.4 MB/s eta 0:00:01\r\u001b[K     |████████████████████████████████| 564 kB 46.4 MB/s \n",
            "\u001b[?25hRequirement already satisfied: jupyter in /usr/local/lib/python3.7/dist-packages (from autoviml) (1.0.0)\n",
            "Requirement already satisfied: imbalanced-learn>=0.7 in /usr/local/lib/python3.7/dist-packages (from autoviml) (0.8.1)\n",
            "Collecting catboost\n",
            "  Downloading catboost-1.0.3-cp37-none-manylinux1_x86_64.whl (76.3 MB)\n",
            "\u001b[K     |████████████████████████████████| 76.3 MB 62 kB/s \n",
            "\u001b[?25hRequirement already satisfied: regex in /usr/local/lib/python3.7/dist-packages (from autoviml) (2019.12.20)\n",
            "Requirement already satisfied: textblob in /usr/local/lib/python3.7/dist-packages (from autoviml) (0.15.3)\n",
            "Requirement already satisfied: seaborn in /usr/local/lib/python3.7/dist-packages (from autoviml) (0.11.2)\n",
            "Requirement already satisfied: beautifulsoup4 in /usr/local/lib/python3.7/dist-packages (from autoviml) (4.6.3)\n",
            "Requirement already satisfied: xlrd in /usr/local/lib/python3.7/dist-packages (from autoviml) (1.1.0)\n",
            "Requirement already satisfied: matplotlib in /usr/local/lib/python3.7/dist-packages (from autoviml) (3.2.2)\n",
            "Requirement already satisfied: pandas in /usr/local/lib/python3.7/dist-packages (from autoviml) (1.1.5)\n",
            "Collecting vaderSentiment\n",
            "  Downloading vaderSentiment-3.3.2-py2.py3-none-any.whl (125 kB)\n",
            "\u001b[K     |████████████████████████████████| 125 kB 74.3 MB/s \n",
            "\u001b[?25hRequirement already satisfied: ipython in /usr/local/lib/python3.7/dist-packages (from autoviml) (5.5.0)\n",
            "Collecting emoji\n",
            "  Downloading emoji-1.6.1.tar.gz (170 kB)\n",
            "\u001b[K     |████████████████████████████████| 170 kB 78.7 MB/s \n",
            "\u001b[?25hCollecting xgboost>=1.1.1\n",
            "  Downloading xgboost-1.5.1-py3-none-manylinux2014_x86_64.whl (173.5 MB)\n",
            "\u001b[K     |████████████████████████████████| 173.5 MB 12 kB/s \n",
            "\u001b[?25hRequirement already satisfied: nltk in /usr/local/lib/python3.7/dist-packages (from autoviml) (3.2.5)\n",
            "Requirement already satisfied: scikit-learn>=0.23.1 in /usr/local/lib/python3.7/dist-packages (from autoviml) (1.0.1)\n",
            "Requirement already satisfied: scipy>=0.19.1 in /usr/local/lib/python3.7/dist-packages (from imbalanced-learn>=0.7->autoviml) (1.4.1)\n",
            "Requirement already satisfied: numpy>=1.13.3 in /usr/local/lib/python3.7/dist-packages (from imbalanced-learn>=0.7->autoviml) (1.19.5)\n",
            "Requirement already satisfied: joblib>=0.11 in /usr/local/lib/python3.7/dist-packages (from imbalanced-learn>=0.7->autoviml) (1.1.0)\n",
            "Requirement already satisfied: threadpoolctl>=2.0.0 in /usr/local/lib/python3.7/dist-packages (from scikit-learn>=0.23.1->autoviml) (3.0.0)\n",
            "Requirement already satisfied: numba in /usr/local/lib/python3.7/dist-packages (from shap>=0.36.0->autoviml) (0.51.2)\n",
            "Requirement already satisfied: cloudpickle in /usr/local/lib/python3.7/dist-packages (from shap>=0.36.0->autoviml) (1.3.0)\n",
            "Requirement already satisfied: tqdm>4.25.0 in /usr/local/lib/python3.7/dist-packages (from shap>=0.36.0->autoviml) (4.62.3)\n",
            "Requirement already satisfied: packaging>20.9 in /usr/local/lib/python3.7/dist-packages (from shap>=0.36.0->autoviml) (21.3)\n",
            "Collecting slicer==0.0.7\n",
            "  Downloading slicer-0.0.7-py3-none-any.whl (14 kB)\n",
            "Requirement already satisfied: pyparsing!=3.0.5,>=2.0.2 in /usr/local/lib/python3.7/dist-packages (from packaging>20.9->shap>=0.36.0->autoviml) (3.0.6)\n",
            "Requirement already satisfied: six in /usr/local/lib/python3.7/dist-packages (from catboost->autoviml) (1.15.0)\n",
            "Requirement already satisfied: graphviz in /usr/local/lib/python3.7/dist-packages (from catboost->autoviml) (0.10.1)\n",
            "Requirement already satisfied: plotly in /usr/local/lib/python3.7/dist-packages (from catboost->autoviml) (4.4.1)\n",
            "Requirement already satisfied: python-dateutil>=2.7.3 in /usr/local/lib/python3.7/dist-packages (from pandas->autoviml) (2.8.2)\n",
            "Requirement already satisfied: pytz>=2017.2 in /usr/local/lib/python3.7/dist-packages (from pandas->autoviml) (2018.9)\n",
            "Requirement already satisfied: pickleshare in /usr/local/lib/python3.7/dist-packages (from ipython->autoviml) (0.7.5)\n",
            "Requirement already satisfied: decorator in /usr/local/lib/python3.7/dist-packages (from ipython->autoviml) (4.4.2)\n",
            "Requirement already satisfied: setuptools>=18.5 in /usr/local/lib/python3.7/dist-packages (from ipython->autoviml) (57.4.0)\n",
            "Requirement already satisfied: traitlets>=4.2 in /usr/local/lib/python3.7/dist-packages (from ipython->autoviml) (5.1.1)\n",
            "Requirement already satisfied: simplegeneric>0.8 in /usr/local/lib/python3.7/dist-packages (from ipython->autoviml) (0.8.1)\n",
            "Requirement already satisfied: pexpect in /usr/local/lib/python3.7/dist-packages (from ipython->autoviml) (4.8.0)\n",
            "Requirement already satisfied: prompt-toolkit<2.0.0,>=1.0.4 in /usr/local/lib/python3.7/dist-packages (from ipython->autoviml) (1.0.18)\n",
            "Requirement already satisfied: pygments in /usr/local/lib/python3.7/dist-packages (from ipython->autoviml) (2.6.1)\n",
            "Requirement already satisfied: wcwidth in /usr/local/lib/python3.7/dist-packages (from prompt-toolkit<2.0.0,>=1.0.4->ipython->autoviml) (0.2.5)\n",
            "Requirement already satisfied: nbconvert in /usr/local/lib/python3.7/dist-packages (from jupyter->autoviml) (5.6.1)\n",
            "Requirement already satisfied: notebook in /usr/local/lib/python3.7/dist-packages (from jupyter->autoviml) (5.3.1)\n",
            "Requirement already satisfied: qtconsole in /usr/local/lib/python3.7/dist-packages (from jupyter->autoviml) (5.2.1)\n",
            "Requirement already satisfied: ipykernel in /usr/local/lib/python3.7/dist-packages (from jupyter->autoviml) (4.10.1)\n",
            "Requirement already satisfied: jupyter-console in /usr/local/lib/python3.7/dist-packages (from jupyter->autoviml) (5.2.0)\n",
            "Requirement already satisfied: ipywidgets in /usr/local/lib/python3.7/dist-packages (from jupyter->autoviml) (7.6.5)\n",
            "Requirement already satisfied: tornado>=4.0 in /usr/local/lib/python3.7/dist-packages (from ipykernel->jupyter->autoviml) (5.1.1)\n",
            "Requirement already satisfied: jupyter-client in /usr/local/lib/python3.7/dist-packages (from ipykernel->jupyter->autoviml) (5.3.5)\n",
            "Requirement already satisfied: nbformat>=4.2.0 in /usr/local/lib/python3.7/dist-packages (from ipywidgets->jupyter->autoviml) (5.1.3)\n",
            "Requirement already satisfied: jupyterlab-widgets>=1.0.0 in /usr/local/lib/python3.7/dist-packages (from ipywidgets->jupyter->autoviml) (1.0.2)\n",
            "Requirement already satisfied: ipython-genutils~=0.2.0 in /usr/local/lib/python3.7/dist-packages (from ipywidgets->jupyter->autoviml) (0.2.0)\n",
            "Requirement already satisfied: widgetsnbextension~=3.5.0 in /usr/local/lib/python3.7/dist-packages (from ipywidgets->jupyter->autoviml) (3.5.2)\n",
            "Requirement already satisfied: jsonschema!=2.5.0,>=2.4 in /usr/local/lib/python3.7/dist-packages (from nbformat>=4.2.0->ipywidgets->jupyter->autoviml) (2.6.0)\n",
            "Requirement already satisfied: jupyter-core in /usr/local/lib/python3.7/dist-packages (from nbformat>=4.2.0->ipywidgets->jupyter->autoviml) (4.9.1)\n",
            "Requirement already satisfied: Send2Trash in /usr/local/lib/python3.7/dist-packages (from notebook->jupyter->autoviml) (1.8.0)\n",
            "Requirement already satisfied: jinja2 in /usr/local/lib/python3.7/dist-packages (from notebook->jupyter->autoviml) (2.11.3)\n",
            "Requirement already satisfied: terminado>=0.8.1 in /usr/local/lib/python3.7/dist-packages (from notebook->jupyter->autoviml) (0.12.1)\n",
            "Requirement already satisfied: pyzmq>=13 in /usr/local/lib/python3.7/dist-packages (from jupyter-client->ipykernel->jupyter->autoviml) (22.3.0)\n",
            "Requirement already satisfied: ptyprocess in /usr/local/lib/python3.7/dist-packages (from terminado>=0.8.1->notebook->jupyter->autoviml) (0.7.0)\n",
            "Requirement already satisfied: MarkupSafe>=0.23 in /usr/local/lib/python3.7/dist-packages (from jinja2->notebook->jupyter->autoviml) (2.0.1)\n",
            "Requirement already satisfied: kiwisolver>=1.0.1 in /usr/local/lib/python3.7/dist-packages (from matplotlib->autoviml) (1.3.2)\n",
            "Requirement already satisfied: cycler>=0.10 in /usr/local/lib/python3.7/dist-packages (from matplotlib->autoviml) (0.11.0)\n",
            "Requirement already satisfied: pandocfilters>=1.4.1 in /usr/local/lib/python3.7/dist-packages (from nbconvert->jupyter->autoviml) (1.5.0)\n",
            "Requirement already satisfied: mistune<2,>=0.8.1 in /usr/local/lib/python3.7/dist-packages (from nbconvert->jupyter->autoviml) (0.8.4)\n",
            "Requirement already satisfied: entrypoints>=0.2.2 in /usr/local/lib/python3.7/dist-packages (from nbconvert->jupyter->autoviml) (0.3)\n",
            "Requirement already satisfied: bleach in /usr/local/lib/python3.7/dist-packages (from nbconvert->jupyter->autoviml) (4.1.0)\n",
            "Requirement already satisfied: defusedxml in /usr/local/lib/python3.7/dist-packages (from nbconvert->jupyter->autoviml) (0.7.1)\n",
            "Requirement already satisfied: testpath in /usr/local/lib/python3.7/dist-packages (from nbconvert->jupyter->autoviml) (0.5.0)\n",
            "Requirement already satisfied: webencodings in /usr/local/lib/python3.7/dist-packages (from bleach->nbconvert->jupyter->autoviml) (0.5.1)\n",
            "Requirement already satisfied: llvmlite<0.35,>=0.34.0.dev0 in /usr/local/lib/python3.7/dist-packages (from numba->shap>=0.36.0->autoviml) (0.34.0)\n",
            "Requirement already satisfied: retrying>=1.3.3 in /usr/local/lib/python3.7/dist-packages (from plotly->catboost->autoviml) (1.3.3)\n",
            "Requirement already satisfied: qtpy in /usr/local/lib/python3.7/dist-packages (from qtconsole->jupyter->autoviml) (1.11.2)\n",
            "Requirement already satisfied: requests in /usr/local/lib/python3.7/dist-packages (from vaderSentiment->autoviml) (2.23.0)\n",
            "Requirement already satisfied: chardet<4,>=3.0.2 in /usr/local/lib/python3.7/dist-packages (from requests->vaderSentiment->autoviml) (3.0.4)\n",
            "Requirement already satisfied: idna<3,>=2.5 in /usr/local/lib/python3.7/dist-packages (from requests->vaderSentiment->autoviml) (2.10)\n",
            "Requirement already satisfied: certifi>=2017.4.17 in /usr/local/lib/python3.7/dist-packages (from requests->vaderSentiment->autoviml) (2021.10.8)\n",
            "Requirement already satisfied: urllib3!=1.25.0,!=1.25.1,<1.26,>=1.21.1 in /usr/local/lib/python3.7/dist-packages (from requests->vaderSentiment->autoviml) (1.24.3)\n",
            "Building wheels for collected packages: emoji\n",
            "  Building wheel for emoji (setup.py) ... \u001b[?25l\u001b[?25hdone\n",
            "  Created wheel for emoji: filename=emoji-1.6.1-py3-none-any.whl size=169314 sha256=2b126d6ae975bc84c0d48fd201f6e65a3972f121254402d3dfc71bba7db53e72\n",
            "  Stored in directory: /root/.cache/pip/wheels/ea/5f/d3/03d313ddb3c2a1a427bb4690f1621eea60fe6f2a30cc95940f\n",
            "Successfully built emoji\n",
            "Installing collected packages: slicer, xgboost, vaderSentiment, shap, emoji, catboost, autoviml\n",
            "  Attempting uninstall: xgboost\n",
            "    Found existing installation: xgboost 0.90\n",
            "    Uninstalling xgboost-0.90:\n",
            "      Successfully uninstalled xgboost-0.90\n",
            "Successfully installed autoviml-0.1.684 catboost-1.0.3 emoji-1.6.1 shap-0.40.0 slicer-0.0.7 vaderSentiment-3.3.2 xgboost-1.5.1\n"
          ]
        }
      ]
    },
    {
      "cell_type": "code",
      "metadata": {
        "colab": {
          "base_uri": "https://localhost:8080/",
          "height": 290
        },
        "id": "RrSJ2FfyhA8Y",
        "outputId": "43847a39-5160-433a-f04a-55e2548c7719"
      },
      "source": [
        "\n",
        "from sklearn.model_selection import train_test_split\n",
        "from autoviml.Auto_NLP import Auto_NLP\n"
      ],
      "execution_count": null,
      "outputs": [
        {
          "output_type": "stream",
          "name": "stdout",
          "text": [
            "Imported Auto_ViML version: 0.1.684. Call using:\n",
            "             m, feats, trainm, testm = Auto_ViML(train, target, test,\n",
            "                            sample_submission='',\n",
            "                            scoring_parameter='', KMeans_Featurizer=False,\n",
            "                            hyper_param='RS',feature_reduction=True,\n",
            "                             Boosting_Flag='CatBoost', Binning_Flag=False,\n",
            "                            Add_Poly=0, Stacking_Flag=False,Imbalanced_Flag=False,\n",
            "                            verbose=1)\n",
            "            \n",
            "\n",
            "Imported Auto_NLP version: 0.0.47.. Call using:\n",
            "     train_nlp, test_nlp, nlp_pipeline, predictions = Auto_NLP(\n",
            "                nlp_column, train, test, target, score_type='balanced_accuracy',\n",
            "                modeltype='Classification',top_num_features=200, verbose=0,\n",
            "                build_model=True)\n"
          ]
        },
        {
          "output_type": "display_data",
          "data": {
            "text/html": [
              "<style>.container { width:95% !important; }</style>"
            ],
            "text/plain": [
              "<IPython.core.display.HTML object>"
            ]
          },
          "metadata": {}
        }
      ]
    },
    {
      "cell_type": "markdown",
      "source": [
        "# Data Loading & Pre-processing"
      ],
      "metadata": {
        "id": "ruDpePvkWSYT"
      }
    },
    {
      "cell_type": "code",
      "metadata": {
        "id": "f0oCyCIGxDsY"
      },
      "source": [
        "# copy data file into content in colab to be used \n",
        "!cp /content/drive/My\\ Drive/data.zip /content "
      ],
      "execution_count": null,
      "outputs": []
    },
    {
      "cell_type": "code",
      "metadata": {
        "colab": {
          "base_uri": "https://localhost:8080/"
        },
        "id": "WlRo4C05xV9X",
        "outputId": "c7efbebe-e1a3-4b67-f48b-99515d70b957"
      },
      "source": [
        "# convert zip files to normal file so we can call its content \n",
        "!unzip /content/data.zip"
      ],
      "execution_count": null,
      "outputs": [
        {
          "output_type": "stream",
          "name": "stdout",
          "text": [
            "Archive:  /content/data.zip\n",
            "  inflating: training.1600000.processed.noemoticon.csv  \n"
          ]
        }
      ]
    },
    {
      "cell_type": "code",
      "metadata": {
        "id": "s9NQPQIhyExH"
      },
      "source": [
        "# Importing the dataset\n",
        "DATASET_COLUMNS  = [\"sentiment\", \"ids\", \"date\", \"flag\", \"user\", \"text\"]\n",
        "DATASET_ENCODING = \"ISO-8859-1\"\n",
        "dataset = pd.read_csv('/content/training.1600000.processed.noemoticon.csv',\n",
        "                      encoding=DATASET_ENCODING , names=DATASET_COLUMNS)\n",
        "\n",
        "\n"
      ],
      "execution_count": null,
      "outputs": []
    },
    {
      "cell_type": "code",
      "metadata": {
        "id": "Wtp2-ZSw0dW3",
        "colab": {
          "base_uri": "https://localhost:8080/"
        },
        "outputId": "ac23fdde-11e4-4414-9a68-a6600d934b70"
      },
      "source": [
        "# Removing the unnecessary columns.\n",
        "dataset = dataset[['sentiment','text']]\n",
        "# Replacing the values to ease understanding.\n",
        "dataset['sentiment'] = dataset['sentiment'].replace(4,1)"
      ],
      "execution_count": null,
      "outputs": [
        {
          "output_type": "stream",
          "name": "stderr",
          "text": [
            "/usr/local/lib/python3.7/dist-packages/ipykernel_launcher.py:4: SettingWithCopyWarning: \n",
            "A value is trying to be set on a copy of a slice from a DataFrame.\n",
            "Try using .loc[row_indexer,col_indexer] = value instead\n",
            "\n",
            "See the caveats in the documentation: https://pandas.pydata.org/pandas-docs/stable/user_guide/indexing.html#returning-a-view-versus-a-copy\n",
            "  after removing the cwd from sys.path.\n"
          ]
        }
      ]
    },
    {
      "cell_type": "code",
      "metadata": {
        "colab": {
          "base_uri": "https://localhost:8080/",
          "height": 423
        },
        "id": "iUwr_Lrt0i9-",
        "outputId": "134da1af-5a85-4dfa-95ef-a1c8cd40b213"
      },
      "source": [
        "dataset"
      ],
      "execution_count": null,
      "outputs": [
        {
          "output_type": "execute_result",
          "data": {
            "text/html": [
              "<div>\n",
              "<style scoped>\n",
              "    .dataframe tbody tr th:only-of-type {\n",
              "        vertical-align: middle;\n",
              "    }\n",
              "\n",
              "    .dataframe tbody tr th {\n",
              "        vertical-align: top;\n",
              "    }\n",
              "\n",
              "    .dataframe thead th {\n",
              "        text-align: right;\n",
              "    }\n",
              "</style>\n",
              "<table border=\"1\" class=\"dataframe\">\n",
              "  <thead>\n",
              "    <tr style=\"text-align: right;\">\n",
              "      <th></th>\n",
              "      <th>sentiment</th>\n",
              "      <th>text</th>\n",
              "    </tr>\n",
              "  </thead>\n",
              "  <tbody>\n",
              "    <tr>\n",
              "      <th>0</th>\n",
              "      <td>0</td>\n",
              "      <td>@switchfoot http://twitpic.com/2y1zl - Awww, t...</td>\n",
              "    </tr>\n",
              "    <tr>\n",
              "      <th>1</th>\n",
              "      <td>0</td>\n",
              "      <td>is upset that he can't update his Facebook by ...</td>\n",
              "    </tr>\n",
              "    <tr>\n",
              "      <th>2</th>\n",
              "      <td>0</td>\n",
              "      <td>@Kenichan I dived many times for the ball. Man...</td>\n",
              "    </tr>\n",
              "    <tr>\n",
              "      <th>3</th>\n",
              "      <td>0</td>\n",
              "      <td>my whole body feels itchy and like its on fire</td>\n",
              "    </tr>\n",
              "    <tr>\n",
              "      <th>4</th>\n",
              "      <td>0</td>\n",
              "      <td>@nationwideclass no, it's not behaving at all....</td>\n",
              "    </tr>\n",
              "    <tr>\n",
              "      <th>...</th>\n",
              "      <td>...</td>\n",
              "      <td>...</td>\n",
              "    </tr>\n",
              "    <tr>\n",
              "      <th>1599995</th>\n",
              "      <td>1</td>\n",
              "      <td>Just woke up. Having no school is the best fee...</td>\n",
              "    </tr>\n",
              "    <tr>\n",
              "      <th>1599996</th>\n",
              "      <td>1</td>\n",
              "      <td>TheWDB.com - Very cool to hear old Walt interv...</td>\n",
              "    </tr>\n",
              "    <tr>\n",
              "      <th>1599997</th>\n",
              "      <td>1</td>\n",
              "      <td>Are you ready for your MoJo Makeover? Ask me f...</td>\n",
              "    </tr>\n",
              "    <tr>\n",
              "      <th>1599998</th>\n",
              "      <td>1</td>\n",
              "      <td>Happy 38th Birthday to my boo of alll time!!! ...</td>\n",
              "    </tr>\n",
              "    <tr>\n",
              "      <th>1599999</th>\n",
              "      <td>1</td>\n",
              "      <td>happy #charitytuesday @theNSPCC @SparksCharity...</td>\n",
              "    </tr>\n",
              "  </tbody>\n",
              "</table>\n",
              "<p>1600000 rows × 2 columns</p>\n",
              "</div>"
            ],
            "text/plain": [
              "         sentiment                                               text\n",
              "0                0  @switchfoot http://twitpic.com/2y1zl - Awww, t...\n",
              "1                0  is upset that he can't update his Facebook by ...\n",
              "2                0  @Kenichan I dived many times for the ball. Man...\n",
              "3                0    my whole body feels itchy and like its on fire \n",
              "4                0  @nationwideclass no, it's not behaving at all....\n",
              "...            ...                                                ...\n",
              "1599995          1  Just woke up. Having no school is the best fee...\n",
              "1599996          1  TheWDB.com - Very cool to hear old Walt interv...\n",
              "1599997          1  Are you ready for your MoJo Makeover? Ask me f...\n",
              "1599998          1  Happy 38th Birthday to my boo of alll time!!! ...\n",
              "1599999          1  happy #charitytuesday @theNSPCC @SparksCharity...\n",
              "\n",
              "[1600000 rows x 2 columns]"
            ]
          },
          "metadata": {},
          "execution_count": 5
        }
      ]
    },
    {
      "cell_type": "code",
      "metadata": {
        "colab": {
          "base_uri": "https://localhost:8080/"
        },
        "id": "Ue6rIm4q1szv",
        "outputId": "aa56bbdc-c6c4-497e-b1f7-bf9ed8758c14"
      },
      "source": [
        "dataset.dtypes"
      ],
      "execution_count": null,
      "outputs": [
        {
          "output_type": "execute_result",
          "data": {
            "text/plain": [
              "sentiment     int64\n",
              "text         object\n",
              "dtype: object"
            ]
          },
          "metadata": {},
          "execution_count": 12
        }
      ]
    },
    {
      "cell_type": "code",
      "metadata": {
        "colab": {
          "base_uri": "https://localhost:8080/"
        },
        "id": "8WYqFTfc1hS-",
        "outputId": "2dbcff27-f113-4704-8cc4-9394983ab002"
      },
      "source": [
        "dataset.isnull().sum()"
      ],
      "execution_count": null,
      "outputs": [
        {
          "output_type": "execute_result",
          "data": {
            "text/plain": [
              "sentiment    0\n",
              "text         0\n",
              "dtype: int64"
            ]
          },
          "metadata": {},
          "execution_count": 11
        }
      ]
    },
    {
      "cell_type": "code",
      "metadata": {
        "colab": {
          "base_uri": "https://localhost:8080/",
          "height": 354
        },
        "id": "YAyOKBX_0_in",
        "outputId": "4a8086f8-d97b-4247-8cd9-6ef8d906ff91"
      },
      "source": [
        "sns.countplot(dataset['sentiment'])"
      ],
      "execution_count": null,
      "outputs": [
        {
          "output_type": "stream",
          "name": "stderr",
          "text": [
            "/usr/local/lib/python3.7/dist-packages/seaborn/_decorators.py:43: FutureWarning: Pass the following variable as a keyword arg: x. From version 0.12, the only valid positional argument will be `data`, and passing other arguments without an explicit keyword will result in an error or misinterpretation.\n",
            "  FutureWarning\n"
          ]
        },
        {
          "output_type": "execute_result",
          "data": {
            "text/plain": [
              "<matplotlib.axes._subplots.AxesSubplot at 0x7f812392a890>"
            ]
          },
          "metadata": {},
          "execution_count": 7
        },
        {
          "output_type": "display_data",
          "data": {
            "image/png": "[encoded data removed]",
            "text/plain": [
              "<Figure size 432x288 with 1 Axes>"
            ]
          },
          "metadata": {
            "needs_background": "light"
          }
        }
      ]
    },
    {
      "cell_type": "code",
      "metadata": {
        "id": "8ZmYF7cNhLpv"
      },
      "source": [
        "train, test = train_test_split(dataset, test_size=0.2)"
      ],
      "execution_count": null,
      "outputs": []
    },
    {
      "cell_type": "code",
      "metadata": {
        "id": "LDds6vk0hm_5"
      },
      "source": [
        "input_feature, target = 'text', 'sentiment'"
      ],
      "execution_count": null,
      "outputs": []
    },
    {
      "cell_type": "markdown",
      "source": [
        "# Modeling & Evaluating"
      ],
      "metadata": {
        "id": "BuvTOTRbXLQl"
      }
    },
    {
      "cell_type": "code",
      "metadata": {
        "id": "Iv7GnuqNh5XL"
      },
      "source": [
        "train_x, test_x, final, predicted= Auto_NLP(input_feature, train, test,target,score_type=\"balanced_accuracy\",top_num_features=100,modeltype=\"Classification\", verbose=2, build_model=True)\n"
      ],
      "execution_count": null,
      "outputs": []
    },
    {
      "cell_type": "code",
      "source": [
        "final.predict(test_x[input_feature])"
      ],
      "metadata": {
        "id": "ATFPEW1vXf_U"
      },
      "execution_count": null,
      "outputs": []
    }
  ]
}