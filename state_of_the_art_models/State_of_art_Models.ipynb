{
  "metadata": {
    "kernelspec": {
      "language": "python",
      "display_name": "Python 3",
      "name": "python3"
    },
    "language_info": {
      "name": "python",
      "version": "3.7.10",
      "mimetype": "text/x-python",
      "codemirror_mode": {
        "name": "ipython",
        "version": 3
      },
      "pygments_lexer": "ipython3",
      "nbconvert_exporter": "python",
      "file_extension": ".py"
    },
    "colab": {
      "name": "amazon-review-sentiment-analysis-prediction.ipynb",
      "provenance": []
    }
  },
  "nbformat_minor": 0,
  "nbformat": 4,
  "cells": [
    {
      "cell_type": "code",
      "source": [
        "import pandas as pd \n",
        "import numpy as np \n",
        "import matplotlib.pyplot as plt \n",
        "import seaborn as sns \n",
        "import re \n",
        "%matplotlib inline \n",
        "\n",
        "import warnings\n",
        "warnings.filterwarnings(\"ignore\")\n",
        "plt.style.use('ggplot')\n",
        "\n",
        "import nltk\n",
        "from nltk import word_tokenize\n",
        "\n",
        "from sklearn.feature_extraction.text import CountVectorizer\n",
        "from sklearn.feature_extraction.text import TfidfVectorizer\n",
        "from collections import Counter\n",
        "from wordcloud import WordCloud\n",
        "\n",
        "from sklearn.model_selection import train_test_split\n",
        "from sklearn.linear_model import LogisticRegression\n",
        "from sklearn.ensemble import RandomForestClassifier\n",
        "from sklearn.metrics import accuracy_score\n",
        "from sklearn.metrics import f1_score\n",
        "\n"
      ],
      "metadata": {
        "_uuid": "8f2839f25d086af736a60e9eeb907d3b93b6e0e5",
        "_cell_guid": "b1076dfc-b9ad-4769-8c92-a6c4dae69d19",
        "execution": {
          "iopub.status.busy": "2021-07-25T19:02:47.475487Z",
          "iopub.execute_input": "2021-07-25T19:02:47.475916Z",
          "iopub.status.idle": "2021-07-25T19:02:47.489977Z",
          "shell.execute_reply.started": "2021-07-25T19:02:47.475881Z",
          "shell.execute_reply": "2021-07-25T19:02:47.488427Z"
        },
        "trusted": true,
        "id": "ecBS1yP4LKB-"
      },
      "execution_count": 1,
      "outputs": []
    },
    {
      "cell_type": "code",
      "source": [
        "# Upload data on google drive and call it in colab\n",
        "from google.colab import drive\n",
        "drive.mount('/content/drive')"
      ],
      "metadata": {
        "colab": {
          "base_uri": "https://localhost:8080/"
        },
        "id": "u8DAwomVLYiF",
        "outputId": "1ea9041d-95d1-435a-f9de-161a135dcbf0"
      },
      "execution_count": 2,
      "outputs": [
        {
          "output_type": "stream",
          "name": "stdout",
          "text": [
            "Mounted at /content/drive\n"
          ]
        }
      ]
    },
    {
      "cell_type": "code",
      "source": [
        "# copy data file into content in colab to be used \n",
        "!cp /content/drive/My\\ Drive/State_of_Art_Models/Reviews.csv.zip /content \n"
      ],
      "metadata": {
        "id": "5fbbiOt2LTqO"
      },
      "execution_count": 5,
      "outputs": []
    },
    {
      "cell_type": "code",
      "source": [
        "# convert zip files to normal file so we can call its content \n",
        "!unzip /content/Reviews.csv.zip\n"
      ],
      "metadata": {
        "colab": {
          "base_uri": "https://localhost:8080/"
        },
        "id": "7wgmQijxLx4H",
        "outputId": "394625cb-6cd6-45fe-f0fb-32daa71d7159"
      },
      "execution_count": 6,
      "outputs": [
        {
          "output_type": "stream",
          "name": "stdout",
          "text": [
            "Archive:  /content/Reviews.csv.zip\n",
            "  inflating: Reviews.csv             \n"
          ]
        }
      ]
    },
    {
      "cell_type": "code",
      "source": [
        "df = pd.read_csv('/content/Reviews.csv')"
      ],
      "metadata": {
        "execution": {
          "iopub.status.busy": "2021-07-25T19:02:47.492201Z",
          "iopub.execute_input": "2021-07-25T19:02:47.492998Z",
          "iopub.status.idle": "2021-07-25T19:02:51.277747Z",
          "shell.execute_reply.started": "2021-07-25T19:02:47.492925Z",
          "shell.execute_reply": "2021-07-25T19:02:51.276498Z"
        },
        "trusted": true,
        "id": "0SH7NEwJLKCG"
      },
      "execution_count": 7,
      "outputs": []
    },
    {
      "cell_type": "code",
      "source": [
        "df.head(3)"
      ],
      "metadata": {
        "execution": {
          "iopub.status.busy": "2021-07-25T19:02:51.280613Z",
          "iopub.execute_input": "2021-07-25T19:02:51.281097Z",
          "iopub.status.idle": "2021-07-25T19:02:51.299244Z",
          "shell.execute_reply.started": "2021-07-25T19:02:51.281048Z",
          "shell.execute_reply": "2021-07-25T19:02:51.297913Z"
        },
        "trusted": true,
        "colab": {
          "base_uri": "https://localhost:8080/",
          "height": 299
        },
        "id": "CNXHhHHILKCI",
        "outputId": "6383a8c2-b9e4-46a1-8bfe-e1dc7bc86a19"
      },
      "execution_count": 8,
      "outputs": [
        {
          "output_type": "execute_result",
          "data": {
            "text/html": [
              "<div>\n",
              "<style scoped>\n",
              "    .dataframe tbody tr th:only-of-type {\n",
              "        vertical-align: middle;\n",
              "    }\n",
              "\n",
              "    .dataframe tbody tr th {\n",
              "        vertical-align: top;\n",
              "    }\n",
              "\n",
              "    .dataframe thead th {\n",
              "        text-align: right;\n",
              "    }\n",
              "</style>\n",
              "<table border=\"1\" class=\"dataframe\">\n",
              "  <thead>\n",
              "    <tr style=\"text-align: right;\">\n",
              "      <th></th>\n",
              "      <th>Id</th>\n",
              "      <th>ProductId</th>\n",
              "      <th>UserId</th>\n",
              "      <th>ProfileName</th>\n",
              "      <th>HelpfulnessNumerator</th>\n",
              "      <th>HelpfulnessDenominator</th>\n",
              "      <th>Score</th>\n",
              "      <th>Time</th>\n",
              "      <th>Summary</th>\n",
              "      <th>Text</th>\n",
              "    </tr>\n",
              "  </thead>\n",
              "  <tbody>\n",
              "    <tr>\n",
              "      <th>0</th>\n",
              "      <td>1</td>\n",
              "      <td>B001E4KFG0</td>\n",
              "      <td>A3SGXH7AUHU8GW</td>\n",
              "      <td>delmartian</td>\n",
              "      <td>1</td>\n",
              "      <td>1</td>\n",
              "      <td>5</td>\n",
              "      <td>1303862400</td>\n",
              "      <td>Good Quality Dog Food</td>\n",
              "      <td>I have bought several of the Vitality canned d...</td>\n",
              "    </tr>\n",
              "    <tr>\n",
              "      <th>1</th>\n",
              "      <td>2</td>\n",
              "      <td>B00813GRG4</td>\n",
              "      <td>A1D87F6ZCVE5NK</td>\n",
              "      <td>dll pa</td>\n",
              "      <td>0</td>\n",
              "      <td>0</td>\n",
              "      <td>1</td>\n",
              "      <td>1346976000</td>\n",
              "      <td>Not as Advertised</td>\n",
              "      <td>Product arrived labeled as Jumbo Salted Peanut...</td>\n",
              "    </tr>\n",
              "    <tr>\n",
              "      <th>2</th>\n",
              "      <td>3</td>\n",
              "      <td>B000LQOCH0</td>\n",
              "      <td>ABXLMWJIXXAIN</td>\n",
              "      <td>Natalia Corres \"Natalia Corres\"</td>\n",
              "      <td>1</td>\n",
              "      <td>1</td>\n",
              "      <td>4</td>\n",
              "      <td>1219017600</td>\n",
              "      <td>\"Delight\" says it all</td>\n",
              "      <td>This is a confection that has been around a fe...</td>\n",
              "    </tr>\n",
              "  </tbody>\n",
              "</table>\n",
              "</div>"
            ],
            "text/plain": [
              "   Id  ...                                               Text\n",
              "0   1  ...  I have bought several of the Vitality canned d...\n",
              "1   2  ...  Product arrived labeled as Jumbo Salted Peanut...\n",
              "2   3  ...  This is a confection that has been around a fe...\n",
              "\n",
              "[3 rows x 10 columns]"
            ]
          },
          "metadata": {},
          "execution_count": 8
        }
      ]
    },
    {
      "cell_type": "code",
      "source": [
        "df.shape"
      ],
      "metadata": {
        "execution": {
          "iopub.status.busy": "2021-07-25T19:02:51.301840Z",
          "iopub.execute_input": "2021-07-25T19:02:51.302735Z",
          "iopub.status.idle": "2021-07-25T19:02:51.315356Z",
          "shell.execute_reply.started": "2021-07-25T19:02:51.302685Z",
          "shell.execute_reply": "2021-07-25T19:02:51.314072Z"
        },
        "trusted": true,
        "colab": {
          "base_uri": "https://localhost:8080/"
        },
        "id": "BYWhDKORLKCJ",
        "outputId": "c7c4e507-6adb-4b85-8dbc-508f31f88796"
      },
      "execution_count": 9,
      "outputs": [
        {
          "output_type": "execute_result",
          "data": {
            "text/plain": [
              "(568454, 10)"
            ]
          },
          "metadata": {},
          "execution_count": 9
        }
      ]
    },
    {
      "cell_type": "code",
      "source": [
        "df = df.sample(frac= 0.20,replace = True).reset_index(drop = True)\n",
        "\n",
        "df.head()"
      ],
      "metadata": {
        "execution": {
          "iopub.status.busy": "2021-07-25T19:02:51.317581Z",
          "iopub.execute_input": "2021-07-25T19:02:51.318553Z",
          "iopub.status.idle": "2021-07-25T19:02:51.479896Z",
          "shell.execute_reply.started": "2021-07-25T19:02:51.318442Z",
          "shell.execute_reply": "2021-07-25T19:02:51.478357Z"
        },
        "trusted": true,
        "colab": {
          "base_uri": "https://localhost:8080/",
          "height": 588
        },
        "id": "QetZC7DPLKCK",
        "outputId": "02b4edb3-8159-4def-abd9-b63508659c03"
      },
      "execution_count": 10,
      "outputs": [
        {
          "output_type": "execute_result",
          "data": {
            "text/html": [
              "<div>\n",
              "<style scoped>\n",
              "    .dataframe tbody tr th:only-of-type {\n",
              "        vertical-align: middle;\n",
              "    }\n",
              "\n",
              "    .dataframe tbody tr th {\n",
              "        vertical-align: top;\n",
              "    }\n",
              "\n",
              "    .dataframe thead th {\n",
              "        text-align: right;\n",
              "    }\n",
              "</style>\n",
              "<table border=\"1\" class=\"dataframe\">\n",
              "  <thead>\n",
              "    <tr style=\"text-align: right;\">\n",
              "      <th></th>\n",
              "      <th>Id</th>\n",
              "      <th>ProductId</th>\n",
              "      <th>UserId</th>\n",
              "      <th>ProfileName</th>\n",
              "      <th>HelpfulnessNumerator</th>\n",
              "      <th>HelpfulnessDenominator</th>\n",
              "      <th>Score</th>\n",
              "      <th>Time</th>\n",
              "      <th>Summary</th>\n",
              "      <th>Text</th>\n",
              "    </tr>\n",
              "  </thead>\n",
              "  <tbody>\n",
              "    <tr>\n",
              "      <th>0</th>\n",
              "      <td>168365</td>\n",
              "      <td>B000LDOT58</td>\n",
              "      <td>A2PIZ0LHH5VL36</td>\n",
              "      <td>Carolyne A. Humphrey \"C. Humphrey\"</td>\n",
              "      <td>0</td>\n",
              "      <td>0</td>\n",
              "      <td>4</td>\n",
              "      <td>1231200000</td>\n",
              "      <td>high interest</td>\n",
              "      <td>This product makes a chew treat last longer wh...</td>\n",
              "    </tr>\n",
              "    <tr>\n",
              "      <th>1</th>\n",
              "      <td>428357</td>\n",
              "      <td>B0029JS3XG</td>\n",
              "      <td>A3MWL4FO0J9O29</td>\n",
              "      <td>Joe44060</td>\n",
              "      <td>2</td>\n",
              "      <td>3</td>\n",
              "      <td>5</td>\n",
              "      <td>1248307200</td>\n",
              "      <td>Pillsbury cranberry bread is my favorite</td>\n",
              "      <td>I have been making Pillsbury bread mixes for a...</td>\n",
              "    </tr>\n",
              "    <tr>\n",
              "      <th>2</th>\n",
              "      <td>336817</td>\n",
              "      <td>B004IFKSLY</td>\n",
              "      <td>A53NMNQVDLCXC</td>\n",
              "      <td>Leann \"talltori\"</td>\n",
              "      <td>0</td>\n",
              "      <td>0</td>\n",
              "      <td>4</td>\n",
              "      <td>1350950400</td>\n",
              "      <td>BRAND NEW CAT!!!!!!</td>\n",
              "      <td>My cat is the most nervous cat I've ever met. ...</td>\n",
              "    </tr>\n",
              "    <tr>\n",
              "      <th>3</th>\n",
              "      <td>474939</td>\n",
              "      <td>B00347AL5U</td>\n",
              "      <td>A3USGDUZJ8YGEN</td>\n",
              "      <td>Jamie L. Landuyt</td>\n",
              "      <td>2</td>\n",
              "      <td>2</td>\n",
              "      <td>5</td>\n",
              "      <td>1336003200</td>\n",
              "      <td>Just as described</td>\n",
              "      <td>I received my purchase quickly and well packag...</td>\n",
              "    </tr>\n",
              "    <tr>\n",
              "      <th>4</th>\n",
              "      <td>137057</td>\n",
              "      <td>B004XNZLMM</td>\n",
              "      <td>A2VNP7RVCIQH19</td>\n",
              "      <td>S Falcon - Seattle</td>\n",
              "      <td>0</td>\n",
              "      <td>0</td>\n",
              "      <td>3</td>\n",
              "      <td>1330041600</td>\n",
              "      <td>Dog Treats</td>\n",
              "      <td>These Chicken and Sweet Potato dog treats are ...</td>\n",
              "    </tr>\n",
              "  </tbody>\n",
              "</table>\n",
              "</div>"
            ],
            "text/plain": [
              "       Id  ...                                               Text\n",
              "0  168365  ...  This product makes a chew treat last longer wh...\n",
              "1  428357  ...  I have been making Pillsbury bread mixes for a...\n",
              "2  336817  ...  My cat is the most nervous cat I've ever met. ...\n",
              "3  474939  ...  I received my purchase quickly and well packag...\n",
              "4  137057  ...  These Chicken and Sweet Potato dog treats are ...\n",
              "\n",
              "[5 rows x 10 columns]"
            ]
          },
          "metadata": {},
          "execution_count": 10
        }
      ]
    },
    {
      "cell_type": "code",
      "source": [
        "df.shape"
      ],
      "metadata": {
        "execution": {
          "iopub.status.busy": "2021-07-25T19:02:51.482998Z",
          "iopub.execute_input": "2021-07-25T19:02:51.483913Z",
          "iopub.status.idle": "2021-07-25T19:02:51.497257Z",
          "shell.execute_reply.started": "2021-07-25T19:02:51.483857Z",
          "shell.execute_reply": "2021-07-25T19:02:51.493243Z"
        },
        "trusted": true,
        "colab": {
          "base_uri": "https://localhost:8080/"
        },
        "id": "WI6Q7hxfLKCL",
        "outputId": "44c603ca-26e4-414e-da89-b93d12fe6f56"
      },
      "execution_count": 11,
      "outputs": [
        {
          "output_type": "execute_result",
          "data": {
            "text/plain": [
              "(113691, 10)"
            ]
          },
          "metadata": {},
          "execution_count": 11
        }
      ]
    },
    {
      "cell_type": "code",
      "source": [
        "df.info()"
      ],
      "metadata": {
        "execution": {
          "iopub.status.busy": "2021-07-25T19:02:51.500626Z",
          "iopub.execute_input": "2021-07-25T19:02:51.502545Z",
          "iopub.status.idle": "2021-07-25T19:02:51.693437Z",
          "shell.execute_reply.started": "2021-07-25T19:02:51.502377Z",
          "shell.execute_reply": "2021-07-25T19:02:51.690941Z"
        },
        "trusted": true,
        "colab": {
          "base_uri": "https://localhost:8080/"
        },
        "id": "sqoKyxncLKCM",
        "outputId": "86dd5df3-7c76-4a49-a39e-f288d2e3f29d"
      },
      "execution_count": 12,
      "outputs": [
        {
          "output_type": "stream",
          "name": "stdout",
          "text": [
            "<class 'pandas.core.frame.DataFrame'>\n",
            "RangeIndex: 113691 entries, 0 to 113690\n",
            "Data columns (total 10 columns):\n",
            " #   Column                  Non-Null Count   Dtype \n",
            "---  ------                  --------------   ----- \n",
            " 0   Id                      113691 non-null  int64 \n",
            " 1   ProductId               113691 non-null  object\n",
            " 2   UserId                  113691 non-null  object\n",
            " 3   ProfileName             113688 non-null  object\n",
            " 4   HelpfulnessNumerator    113691 non-null  int64 \n",
            " 5   HelpfulnessDenominator  113691 non-null  int64 \n",
            " 6   Score                   113691 non-null  int64 \n",
            " 7   Time                    113691 non-null  int64 \n",
            " 8   Summary                 113689 non-null  object\n",
            " 9   Text                    113691 non-null  object\n",
            "dtypes: int64(5), object(5)\n",
            "memory usage: 8.7+ MB\n"
          ]
        }
      ]
    },
    {
      "cell_type": "code",
      "source": [
        "df.isna().sum()"
      ],
      "metadata": {
        "execution": {
          "iopub.status.busy": "2021-07-25T19:02:51.702095Z",
          "iopub.execute_input": "2021-07-25T19:02:51.702560Z",
          "iopub.status.idle": "2021-07-25T19:02:51.877804Z",
          "shell.execute_reply.started": "2021-07-25T19:02:51.702514Z",
          "shell.execute_reply": "2021-07-25T19:02:51.876149Z"
        },
        "trusted": true,
        "colab": {
          "base_uri": "https://localhost:8080/"
        },
        "id": "iBABMOJTLKCN",
        "outputId": "241616f4-5ff0-4490-98b4-9116ae4817e3"
      },
      "execution_count": 13,
      "outputs": [
        {
          "output_type": "execute_result",
          "data": {
            "text/plain": [
              "Id                        0\n",
              "ProductId                 0\n",
              "UserId                    0\n",
              "ProfileName               3\n",
              "HelpfulnessNumerator      0\n",
              "HelpfulnessDenominator    0\n",
              "Score                     0\n",
              "Time                      0\n",
              "Summary                   2\n",
              "Text                      0\n",
              "dtype: int64"
            ]
          },
          "metadata": {},
          "execution_count": 13
        }
      ]
    },
    {
      "cell_type": "code",
      "source": [
        "df.dropna(inplace= True)"
      ],
      "metadata": {
        "execution": {
          "iopub.status.busy": "2021-07-25T19:02:51.887608Z",
          "iopub.execute_input": "2021-07-25T19:02:51.888074Z",
          "iopub.status.idle": "2021-07-25T19:02:52.078278Z",
          "shell.execute_reply.started": "2021-07-25T19:02:51.888027Z",
          "shell.execute_reply": "2021-07-25T19:02:52.076999Z"
        },
        "trusted": true,
        "id": "TdJ84FavLKCO"
      },
      "execution_count": 14,
      "outputs": []
    },
    {
      "cell_type": "code",
      "source": [
        "df.isna().sum()"
      ],
      "metadata": {
        "execution": {
          "iopub.status.busy": "2021-07-25T19:02:52.081065Z",
          "iopub.execute_input": "2021-07-25T19:02:52.081383Z",
          "iopub.status.idle": "2021-07-25T19:02:52.194371Z",
          "shell.execute_reply.started": "2021-07-25T19:02:52.081351Z",
          "shell.execute_reply": "2021-07-25T19:02:52.192413Z"
        },
        "trusted": true,
        "colab": {
          "base_uri": "https://localhost:8080/"
        },
        "id": "DiUHVt5JLKCQ",
        "outputId": "d920f869-222b-4b5c-aaec-358970462025"
      },
      "execution_count": 15,
      "outputs": [
        {
          "output_type": "execute_result",
          "data": {
            "text/plain": [
              "Id                        0\n",
              "ProductId                 0\n",
              "UserId                    0\n",
              "ProfileName               0\n",
              "HelpfulnessNumerator      0\n",
              "HelpfulnessDenominator    0\n",
              "Score                     0\n",
              "Time                      0\n",
              "Summary                   0\n",
              "Text                      0\n",
              "dtype: int64"
            ]
          },
          "metadata": {},
          "execution_count": 15
        }
      ]
    },
    {
      "cell_type": "markdown",
      "source": [
        "What is the distribution of ratings across dataset"
      ],
      "metadata": {
        "id": "1S1FkBzKLKCQ"
      }
    },
    {
      "cell_type": "code",
      "source": [
        "rating_pct = df['Score'].value_counts()/len(df) * 100\n",
        "rating_pct"
      ],
      "metadata": {
        "execution": {
          "iopub.status.busy": "2021-07-25T19:02:52.196730Z",
          "iopub.execute_input": "2021-07-25T19:02:52.197687Z",
          "iopub.status.idle": "2021-07-25T19:02:52.214201Z",
          "shell.execute_reply.started": "2021-07-25T19:02:52.197640Z",
          "shell.execute_reply": "2021-07-25T19:02:52.212438Z"
        },
        "trusted": true,
        "colab": {
          "base_uri": "https://localhost:8080/"
        },
        "id": "T3JtENpYLKCT",
        "outputId": "3742a279-9b1c-48b1-b2bd-0530d74ca413"
      },
      "execution_count": 16,
      "outputs": [
        {
          "output_type": "execute_result",
          "data": {
            "text/plain": [
              "5    64.008761\n",
              "4    14.138944\n",
              "1     9.163837\n",
              "3     7.583168\n",
              "2     5.105290\n",
              "Name: Score, dtype: float64"
            ]
          },
          "metadata": {},
          "execution_count": 16
        }
      ]
    },
    {
      "cell_type": "code",
      "source": [
        "rating_pct.plot.bar()\n",
        "plt.show()"
      ],
      "metadata": {
        "execution": {
          "iopub.status.busy": "2021-07-25T19:02:52.216163Z",
          "iopub.execute_input": "2021-07-25T19:02:52.216840Z",
          "iopub.status.idle": "2021-07-25T19:02:52.389744Z",
          "shell.execute_reply.started": "2021-07-25T19:02:52.216687Z",
          "shell.execute_reply": "2021-07-25T19:02:52.388127Z"
        },
        "trusted": true,
        "colab": {
          "base_uri": "https://localhost:8080/",
          "height": 262
        },
        "id": "jY6-i0zYLKCU",
        "outputId": "2f36b3ef-074e-4441-e8d0-c07fd7231743"
      },
      "execution_count": 17,
      "outputs": [
        {
          "output_type": "display_data",
          "data": {
            "image/png": "[encoded data removed]",
            "text/plain": [
              "<Figure size 432x288 with 1 Axes>"
            ]
          },
          "metadata": {
            "needs_background": "light"
          }
        }
      ]
    },
    {
      "cell_type": "code",
      "source": [
        "#words per review\n",
        "plt.figure(figsize = (14,6))\n",
        "WordsPerReview = df['Text'].apply(lambda x: len(x.split(' ')))\n",
        "\n",
        "sns.histplot(WordsPerReview,bins = 100)\n",
        "\n",
        "plt.xlabel('Review Length')\n",
        "plt.show()"
      ],
      "metadata": {
        "execution": {
          "iopub.status.busy": "2021-07-25T19:02:52.392073Z",
          "iopub.execute_input": "2021-07-25T19:02:52.392540Z",
          "iopub.status.idle": "2021-07-25T19:02:53.571095Z",
          "shell.execute_reply.started": "2021-07-25T19:02:52.392478Z",
          "shell.execute_reply": "2021-07-25T19:02:53.569564Z"
        },
        "trusted": true,
        "colab": {
          "base_uri": "https://localhost:8080/",
          "height": 392
        },
        "id": "pcRd8T-BLKCX",
        "outputId": "8d61da6c-12c0-4a6d-a3f4-3512ce4c1e88"
      },
      "execution_count": 18,
      "outputs": [
        {
          "output_type": "display_data",
          "data": {
            "image/png": "[encoded data removed]",
            "text/plain": [
              "<Figure size 1008x432 with 1 Axes>"
            ]
          },
          "metadata": {
            "needs_background": "light"
          }
        }
      ]
    },
    {
      "cell_type": "markdown",
      "source": [
        "#### Word cloud"
      ],
      "metadata": {
        "id": "Gcz7OXrQLKCY"
      }
    },
    {
      "cell_type": "code",
      "source": [
        "txt = ' '.join(review for review in df.Text)\n",
        "\n",
        "wordcloud = WordCloud(\n",
        "            background_color = 'white',\n",
        "            max_font_size = 100,\n",
        "            max_words = 100,\n",
        "            width = 800,\n",
        "            height = 500\n",
        "            ).generate(txt)\n",
        "\n",
        "\n",
        "plt.imshow(wordcloud,interpolation = 'bilinear')\n",
        "plt.axis('off')\n",
        "plt.show()"
      ],
      "metadata": {
        "execution": {
          "iopub.status.busy": "2021-07-25T19:02:53.573427Z",
          "iopub.execute_input": "2021-07-25T19:02:53.573897Z"
        },
        "trusted": true,
        "colab": {
          "base_uri": "https://localhost:8080/",
          "height": 240
        },
        "id": "QQ8mpyztLKCY",
        "outputId": "e1f1081d-6134-44b3-b16a-e595875e69c2"
      },
      "execution_count": 19,
      "outputs": [
        {
          "output_type": "display_data",
          "data": {
            "image/png": "[encoded data removed]",
            "text/plain": [
              "<Figure size 432x288 with 1 Axes>"
            ]
          },
          "metadata": {
            "needs_background": "light"
          }
        }
      ]
    },
    {
      "cell_type": "markdown",
      "source": [
        "#### Data Preprocessing and Transformation"
      ],
      "metadata": {
        "id": "ar6bavDGLKCZ"
      }
    },
    {
      "cell_type": "code",
      "source": [
        "df = pd.DataFrame(df,columns = ['Score','Text'])\n",
        "df.rename(columns = {'Score':'Rating','Text':'Review'},inplace = True)"
      ],
      "metadata": {
        "trusted": true,
        "id": "O9E8ZuJOLKCZ"
      },
      "execution_count": 20,
      "outputs": []
    },
    {
      "cell_type": "code",
      "source": [
        "def apply_sentiment(Rating):\n",
        "    if(Rating <=2 ):\n",
        "        return 0\n",
        "    else:\n",
        "        return 1"
      ],
      "metadata": {
        "trusted": true,
        "id": "A3Z3rIjvLKCa"
      },
      "execution_count": 21,
      "outputs": []
    },
    {
      "cell_type": "code",
      "source": [
        "df['Sentiment'] = df['Rating'].apply(apply_sentiment)\n",
        "df.drop(['Rating'],axis = 1, inplace = True)"
      ],
      "metadata": {
        "trusted": true,
        "id": "zdyRcaReLKCa"
      },
      "execution_count": 22,
      "outputs": []
    },
    {
      "cell_type": "code",
      "source": [
        "sentiment = df['Sentiment'].value_counts()\n",
        "sentiment"
      ],
      "metadata": {
        "trusted": true,
        "colab": {
          "base_uri": "https://localhost:8080/"
        },
        "id": "bCpvtGAcLKCa",
        "outputId": "679e3b71-1e70-4207-8313-d7251e255006"
      },
      "execution_count": 23,
      "outputs": [
        {
          "output_type": "execute_result",
          "data": {
            "text/plain": [
              "1    97464\n",
              "0    16222\n",
              "Name: Sentiment, dtype: int64"
            ]
          },
          "metadata": {},
          "execution_count": 23
        }
      ]
    },
    {
      "cell_type": "code",
      "source": [
        "plt.figure(figsize = ( 10,8))\n",
        "sns.countplot(data = df, x = 'Sentiment')\n",
        "plt.show()"
      ],
      "metadata": {
        "trusted": true,
        "colab": {
          "base_uri": "https://localhost:8080/",
          "height": 500
        },
        "id": "IX0GwFQ1LKCb",
        "outputId": "e9ccb094-ab96-447e-e6b9-70f3f323e77c"
      },
      "execution_count": 24,
      "outputs": [
        {
          "output_type": "display_data",
          "data": {
            "image/png": "[encoded data removed]",
            "text/plain": [
              "<Figure size 720x576 with 1 Axes>"
            ]
          },
          "metadata": {
            "needs_background": "light"
          }
        }
      ]
    },
    {
      "cell_type": "code",
      "source": [
        "def clean_text(Review):\n",
        "   \n",
        "    Review = str(Review).lower() # convert to lowercase\n",
        "    Review = re.sub('\\[.*?\\]', '', Review) \n",
        "    Review = re.sub('https?://\\S+|www\\.\\S+', '', Review) # Remove URls\n",
        "    Review = re.sub('<.*?>+', '', Review)\n",
        "    Review = re.sub(r'[^a-z0-9\\s]', '', Review) # Remove punctuation\n",
        "    Review = re.sub('\\n', '', Review)\n",
        "    Review = re.sub('\\w*\\d\\w*', '', Review)\n",
        "    return Review\n"
      ],
      "metadata": {
        "trusted": true,
        "id": "LzuSAA4nLKCb"
      },
      "execution_count": 64,
      "outputs": []
    },
    {
      "cell_type": "code",
      "source": [
        "df['Review'] = df['Review'].apply(clean_text)"
      ],
      "metadata": {
        "trusted": true,
        "id": "N4xSZD_bLKCb"
      },
      "execution_count": 65,
      "outputs": []
    },
    {
      "cell_type": "code",
      "source": [
        "df.head()"
      ],
      "metadata": {
        "trusted": true,
        "colab": {
          "base_uri": "https://localhost:8080/",
          "height": 206
        },
        "id": "PSpMpjMfLKCc",
        "outputId": "e72a3be8-ffdb-4ba1-ab81-b7ea6cc1f42f"
      },
      "execution_count": 66,
      "outputs": [
        {
          "output_type": "execute_result",
          "data": {
            "text/html": [
              "<div>\n",
              "<style scoped>\n",
              "    .dataframe tbody tr th:only-of-type {\n",
              "        vertical-align: middle;\n",
              "    }\n",
              "\n",
              "    .dataframe tbody tr th {\n",
              "        vertical-align: top;\n",
              "    }\n",
              "\n",
              "    .dataframe thead th {\n",
              "        text-align: right;\n",
              "    }\n",
              "</style>\n",
              "<table border=\"1\" class=\"dataframe\">\n",
              "  <thead>\n",
              "    <tr style=\"text-align: right;\">\n",
              "      <th></th>\n",
              "      <th>Review</th>\n",
              "      <th>Sentiment</th>\n",
              "      <th>reviews_text</th>\n",
              "    </tr>\n",
              "  </thead>\n",
              "  <tbody>\n",
              "    <tr>\n",
              "      <th>0</th>\n",
              "      <td>this product makes a chew treat last longer wh...</td>\n",
              "      <td>1</td>\n",
              "      <td>[product, makes, chew, treat, last, longer, us...</td>\n",
              "    </tr>\n",
              "    <tr>\n",
              "      <th>1</th>\n",
              "      <td>i have been making pillsbury bread mixes for a...</td>\n",
              "      <td>1</td>\n",
              "      <td>[making, pillsbury, bread, mixes, least, five,...</td>\n",
              "    </tr>\n",
              "    <tr>\n",
              "      <th>2</th>\n",
              "      <td>my cat is the most nervous cat ive ever met pr...</td>\n",
              "      <td>1</td>\n",
              "      <td>[cat, nervous, cat, ive, ever, met, probably, ...</td>\n",
              "    </tr>\n",
              "    <tr>\n",
              "      <th>3</th>\n",
              "      <td>i received my purchase quickly and well packag...</td>\n",
              "      <td>1</td>\n",
              "      <td>[received, purchase, quickly, well, packaged, ...</td>\n",
              "    </tr>\n",
              "    <tr>\n",
              "      <th>4</th>\n",
              "      <td>these chicken and sweet potato dog treats are ...</td>\n",
              "      <td>1</td>\n",
              "      <td>[chicken, sweet, potato, dog, treats, time, fa...</td>\n",
              "    </tr>\n",
              "  </tbody>\n",
              "</table>\n",
              "</div>"
            ],
            "text/plain": [
              "                                              Review  ...                                       reviews_text\n",
              "0  this product makes a chew treat last longer wh...  ...  [product, makes, chew, treat, last, longer, us...\n",
              "1  i have been making pillsbury bread mixes for a...  ...  [making, pillsbury, bread, mixes, least, five,...\n",
              "2  my cat is the most nervous cat ive ever met pr...  ...  [cat, nervous, cat, ive, ever, met, probably, ...\n",
              "3  i received my purchase quickly and well packag...  ...  [received, purchase, quickly, well, packaged, ...\n",
              "4  these chicken and sweet potato dog treats are ...  ...  [chicken, sweet, potato, dog, treats, time, fa...\n",
              "\n",
              "[5 rows x 3 columns]"
            ]
          },
          "metadata": {},
          "execution_count": 66
        }
      ]
    },
    {
      "cell_type": "code",
      "source": [
        "df.info()"
      ],
      "metadata": {
        "colab": {
          "base_uri": "https://localhost:8080/"
        },
        "id": "PiZX0WAkgL-Q",
        "outputId": "fab695ad-2039-4247-bb2a-815bfb653c88"
      },
      "execution_count": 67,
      "outputs": [
        {
          "output_type": "stream",
          "name": "stdout",
          "text": [
            "<class 'pandas.core.frame.DataFrame'>\n",
            "Int64Index: 113686 entries, 0 to 113690\n",
            "Data columns (total 3 columns):\n",
            " #   Column        Non-Null Count   Dtype \n",
            "---  ------        --------------   ----- \n",
            " 0   Review        113686 non-null  object\n",
            " 1   Sentiment     113686 non-null  int64 \n",
            " 2   reviews_text  113686 non-null  object\n",
            "dtypes: int64(1), object(2)\n",
            "memory usage: 8.5+ MB\n"
          ]
        }
      ]
    },
    {
      "cell_type": "code",
      "source": [
        "nltk.download('stopwords')"
      ],
      "metadata": {
        "colab": {
          "base_uri": "https://localhost:8080/"
        },
        "id": "O2DLc7BIc36p",
        "outputId": "714fc3ca-c75d-4ccf-d6c8-cfcfc25a5441"
      },
      "execution_count": 55,
      "outputs": [
        {
          "output_type": "stream",
          "name": "stdout",
          "text": [
            "[nltk_data] Downloading package stopwords to /root/nltk_data...\n",
            "[nltk_data]   Package stopwords is already up-to-date!\n"
          ]
        },
        {
          "output_type": "execute_result",
          "data": {
            "text/plain": [
              "True"
            ]
          },
          "metadata": {},
          "execution_count": 55
        }
      ]
    },
    {
      "cell_type": "code",
      "source": [
        "nltk.download('punkt')"
      ],
      "metadata": {
        "colab": {
          "base_uri": "https://localhost:8080/"
        },
        "id": "upxCx0Zyc_YG",
        "outputId": "8c28b819-b3d9-4800-ac73-be2cc51f1bd0"
      },
      "execution_count": 56,
      "outputs": [
        {
          "output_type": "stream",
          "name": "stdout",
          "text": [
            "[nltk_data] Downloading package punkt to /root/nltk_data...\n",
            "[nltk_data]   Package punkt is already up-to-date!\n"
          ]
        },
        {
          "output_type": "execute_result",
          "data": {
            "text/plain": [
              "True"
            ]
          },
          "metadata": {},
          "execution_count": 56
        }
      ]
    },
    {
      "cell_type": "code",
      "source": [
        "from nltk.corpus import stopwords\n",
        "stop_words = set(stopwords.words('english'))\n",
        "stopword = []\n",
        "sentence = df['Review'][0]\n",
        "\n",
        "\n",
        "words = nltk.word_tokenize(sentence)\n",
        "\n",
        "\n",
        "def remove_stopword(stop_words, sentence):\n",
        "    return [word for word in nltk.word_tokenize(sentence) if word not in stop_words]\n",
        "\n",
        "df['reviews_text'] = df['Review'].apply(lambda row: remove_stopword(stop_words, row))"
      ],
      "metadata": {
        "trusted": true,
        "id": "uon3As39LKCc"
      },
      "execution_count": 57,
      "outputs": []
    },
    {
      "cell_type": "code",
      "source": [
        "df.head(3)"
      ],
      "metadata": {
        "trusted": true,
        "colab": {
          "base_uri": "https://localhost:8080/",
          "height": 143
        },
        "id": "PHbWfWUnLKCc",
        "outputId": "e95b84d4-eee7-4637-a59f-3465cfedcc4f"
      },
      "execution_count": 68,
      "outputs": [
        {
          "output_type": "execute_result",
          "data": {
            "text/html": [
              "<div>\n",
              "<style scoped>\n",
              "    .dataframe tbody tr th:only-of-type {\n",
              "        vertical-align: middle;\n",
              "    }\n",
              "\n",
              "    .dataframe tbody tr th {\n",
              "        vertical-align: top;\n",
              "    }\n",
              "\n",
              "    .dataframe thead th {\n",
              "        text-align: right;\n",
              "    }\n",
              "</style>\n",
              "<table border=\"1\" class=\"dataframe\">\n",
              "  <thead>\n",
              "    <tr style=\"text-align: right;\">\n",
              "      <th></th>\n",
              "      <th>Review</th>\n",
              "      <th>Sentiment</th>\n",
              "      <th>reviews_text</th>\n",
              "    </tr>\n",
              "  </thead>\n",
              "  <tbody>\n",
              "    <tr>\n",
              "      <th>0</th>\n",
              "      <td>this product makes a chew treat last longer wh...</td>\n",
              "      <td>1</td>\n",
              "      <td>[product, makes, chew, treat, last, longer, us...</td>\n",
              "    </tr>\n",
              "    <tr>\n",
              "      <th>1</th>\n",
              "      <td>i have been making pillsbury bread mixes for a...</td>\n",
              "      <td>1</td>\n",
              "      <td>[making, pillsbury, bread, mixes, least, five,...</td>\n",
              "    </tr>\n",
              "    <tr>\n",
              "      <th>2</th>\n",
              "      <td>my cat is the most nervous cat ive ever met pr...</td>\n",
              "      <td>1</td>\n",
              "      <td>[cat, nervous, cat, ive, ever, met, probably, ...</td>\n",
              "    </tr>\n",
              "  </tbody>\n",
              "</table>\n",
              "</div>"
            ],
            "text/plain": [
              "                                              Review  ...                                       reviews_text\n",
              "0  this product makes a chew treat last longer wh...  ...  [product, makes, chew, treat, last, longer, us...\n",
              "1  i have been making pillsbury bread mixes for a...  ...  [making, pillsbury, bread, mixes, least, five,...\n",
              "2  my cat is the most nervous cat ive ever met pr...  ...  [cat, nervous, cat, ive, ever, met, probably, ...\n",
              "\n",
              "[3 rows x 3 columns]"
            ]
          },
          "metadata": {},
          "execution_count": 68
        }
      ]
    },
    {
      "cell_type": "code",
      "source": [
        "X = df['Review']\n",
        "y = df['Sentiment']\n"
      ],
      "metadata": {
        "trusted": true,
        "id": "wAjRcDQCLKCd"
      },
      "execution_count": 69,
      "outputs": []
    },
    {
      "cell_type": "code",
      "source": [
        "from sklearn.model_selection import train_test_split\n",
        "X_train, X_test, y_train, y_test = train_test_split(X, y,random_state = 42,\n",
        "                                                   test_size = 0.20)\n",
        "X_train.shape,X_test.shape,y_train.shape"
      ],
      "metadata": {
        "trusted": true,
        "colab": {
          "base_uri": "https://localhost:8080/"
        },
        "id": "8Y-krpb7LKCd",
        "outputId": "78e8cb04-f8cf-43b6-b2fb-93ff0e27a50c"
      },
      "execution_count": 70,
      "outputs": [
        {
          "output_type": "execute_result",
          "data": {
            "text/plain": [
              "((90948,), (22738,), (90948,))"
            ]
          },
          "metadata": {},
          "execution_count": 70
        }
      ]
    },
    {
      "cell_type": "code",
      "source": [
        "from sklearn.pipeline import Pipeline\n",
        "from sklearn.feature_extraction.text import CountVectorizer, TfidfVectorizer, TfidfTransformer\n",
        "from sklearn.naive_bayes import MultinomialNB\n",
        "clf = Pipeline([\n",
        "    ('vect',CountVectorizer(stop_words= \"english\")),\n",
        "    ('tfidf', TfidfTransformer()),\n",
        "    ('classifier', MultinomialNB()),\n",
        "    ])"
      ],
      "metadata": {
        "trusted": true,
        "id": "H-bhR2HYLKCd"
      },
      "execution_count": 71,
      "outputs": []
    },
    {
      "cell_type": "code",
      "source": [
        "fit_model = clf.fit(X_train,y_train)"
      ],
      "metadata": {
        "trusted": true,
        "id": "eT5RQN3yLKCe"
      },
      "execution_count": 72,
      "outputs": []
    },
    {
      "cell_type": "code",
      "source": [
        "y_pred = clf.predict(X_test)"
      ],
      "metadata": {
        "trusted": true,
        "id": "2ha3q_QLLKCe"
      },
      "execution_count": 73,
      "outputs": []
    },
    {
      "cell_type": "code",
      "source": [
        "print('Training accuracy:', fit_model.score(X_train,y_train))\n",
        "print('Test accuracy:', fit_model.score(X_test,y_test))"
      ],
      "metadata": {
        "trusted": true,
        "colab": {
          "base_uri": "https://localhost:8080/"
        },
        "id": "UtdYScehLKCe",
        "outputId": "2630a77a-d955-42db-ed5b-c589823356fb"
      },
      "execution_count": 74,
      "outputs": [
        {
          "output_type": "stream",
          "name": "stdout",
          "text": [
            "Training accuracy: 0.8588534107402032\n",
            "Test accuracy: 0.8615973260620987\n"
          ]
        }
      ]
    },
    {
      "cell_type": "code",
      "source": [
        "from sklearn.metrics import classification_report, confusion_matrix\n",
        "print(classification_report(y_test,y_pred))\n",
        "\n",
        "print(confusion_matrix(y_test,y_pred))"
      ],
      "metadata": {
        "trusted": true,
        "colab": {
          "base_uri": "https://localhost:8080/"
        },
        "id": "HYSEKGpzLKCe",
        "outputId": "d68d5a20-3c14-4321-af64-2e23a7725d4a"
      },
      "execution_count": 75,
      "outputs": [
        {
          "output_type": "stream",
          "name": "stdout",
          "text": [
            "              precision    recall  f1-score   support\n",
            "\n",
            "           0       1.00      0.01      0.02      3173\n",
            "           1       0.86      1.00      0.93     19565\n",
            "\n",
            "    accuracy                           0.86     22738\n",
            "   macro avg       0.93      0.50      0.47     22738\n",
            "weighted avg       0.88      0.86      0.80     22738\n",
            "\n",
            "[[   26  3147]\n",
            " [    0 19565]]\n"
          ]
        }
      ]
    },
    {
      "cell_type": "markdown",
      "source": [
        "# Test Model on Our Dataset"
      ],
      "metadata": {
        "id": "MfB4-lF6hE-n"
      }
    },
    {
      "cell_type": "code",
      "source": [
        "!cp /content/drive/MyDrive/Sentiment_Analysis/data.zip /content "
      ],
      "metadata": {
        "id": "577ddE5lLKCe"
      },
      "execution_count": 76,
      "outputs": []
    },
    {
      "cell_type": "code",
      "source": [
        "# convert zip files to normal file so we can call its content \n",
        "!unzip /content/data.zip"
      ],
      "metadata": {
        "colab": {
          "base_uri": "https://localhost:8080/"
        },
        "id": "pVQR6Y8EhZgG",
        "outputId": "08509af2-1401-4fbf-aab8-9ad2cce75f52"
      },
      "execution_count": 77,
      "outputs": [
        {
          "output_type": "stream",
          "name": "stdout",
          "text": [
            "Archive:  /content/data.zip\n",
            "  inflating: training.1600000.processed.noemoticon.csv  \n"
          ]
        }
      ]
    },
    {
      "cell_type": "code",
      "source": [
        "# Importing the dataset\n",
        "DATASET_COLUMNS  = [\"sentiment\", \"ids\", \"date\", \"flag\", \"user\", \"text\"]\n",
        "DATASET_ENCODING = \"ISO-8859-1\"\n",
        "dataset = pd.read_csv('/content/training.1600000.processed.noemoticon.csv',\n",
        "                      encoding=DATASET_ENCODING , names=DATASET_COLUMNS)"
      ],
      "metadata": {
        "id": "thqtRkPEhbwN"
      },
      "execution_count": 78,
      "outputs": []
    },
    {
      "cell_type": "code",
      "source": [
        "# Removing the unnecessary columns.\n",
        "dataset = dataset[['sentiment','text']]\n",
        "# Replacing the values to ease understanding.\n",
        "dataset['sentiment'] = dataset['sentiment'].replace(4,1)"
      ],
      "metadata": {
        "id": "v6KbNjc9he6X"
      },
      "execution_count": 79,
      "outputs": []
    },
    {
      "cell_type": "code",
      "source": [
        "def preprocess(textdata):\n",
        "    processedText = []\n",
        "\n",
        "    # Defining dictionary containing all emojis with their meanings.\n",
        "    emojis = {':)': 'smile', ':-)': 'smile', ';d': 'wink', ':-E': 'vampire', ':(': 'sad', \n",
        "          ':-(': 'sad', ':-<': 'sad', ':P': 'raspberry', ':O': 'surprised',\n",
        "          ':-@': 'shocked', ':@': 'shocked',':-$': 'confused', ':\\\\': 'annoyed', \n",
        "          ':#': 'mute', ':X': 'mute', ':^)': 'smile', ':-&': 'confused', '$_$': 'greedy',\n",
        "          '@@': 'eyeroll', ':-!': 'confused', ':-D': 'smile', ':-0': 'yell', 'O.o': 'confused',\n",
        "          '<(-_-)>': 'robot', 'd[-_-]b': 'dj', \":'-)\": 'sadsmile', ';)': 'wink', \n",
        "          ';-)': 'wink', 'O:-)': 'angel','O*-)': 'angel','(:-D': 'gossip', '=^.^=': 'cat'}\n",
        "    stopwords_english = stopwords.words('english')\n",
        "    # Create Lemmatizer and Stemmer.\n",
        "    wordLemm = WordNetLemmatizer()\n",
        "    \n",
        "    # Defining regex patterns.\n",
        "    urlPattern        = r\"((http://)[^ ]*|(https://)[^ ]*|( www\\.)[^ ]*)\"\n",
        "    userPattern       = '@[^\\s]+'\n",
        "    alphaPattern      = \"[^a-zA-Z0-9]\"\n",
        "    sequencePattern   = r\"(.)\\1\\1+\"\n",
        "    seqReplacePattern = r\"\\1\\1\"\n",
        "    \n",
        "    for tweet in textdata:\n",
        "        tweet = tweet.lower()\n",
        "        \n",
        "        # Replace all URls with 'URL'\n",
        "        tweet = re.sub(urlPattern,' URL',tweet)\n",
        "        # Replace all emojis.\n",
        "        for emoji in emojis.keys():\n",
        "            tweet = tweet.replace(emoji, \"EMOJI\" + emojis[emoji])        \n",
        "        # Replace @USERNAME to 'USER'.\n",
        "        tweet = re.sub(userPattern,' USER', tweet)        \n",
        "        # Replace all non alphabets.\n",
        "        tweet = re.sub(alphaPattern, \" \", tweet)\n",
        "        # Replace 3 or more consecutive letters by 2 letter.\n",
        "        tweet = re.sub(sequencePattern, seqReplacePattern, tweet)\n",
        "\n",
        "        tweetwords = ''\n",
        "        for word in tweet.split():\n",
        "            # Checking if the word is a stopword.\n",
        "            #if word not in stopwordlist:\n",
        "            if (word not in stopwords_english):\n",
        "                # Lemmatizing the word.\n",
        "                word = wordLemm.lemmatize(word)\n",
        "                tweetwords += (word+' ')\n",
        "            \n",
        "        processedText.append(tweetwords)\n",
        "\n",
        "        \n",
        "    return processedText"
      ],
      "metadata": {
        "id": "dL_tb8eChmzG"
      },
      "execution_count": 80,
      "outputs": []
    },
    {
      "cell_type": "code",
      "source": [
        "# Storing data in lists.\n",
        "text, sentiment = list(dataset['text']), list(dataset['sentiment'])"
      ],
      "metadata": {
        "id": "xgW-gGFGhnZ1"
      },
      "execution_count": 81,
      "outputs": []
    },
    {
      "cell_type": "code",
      "source": [
        "from nltk.stem import WordNetLemmatizer"
      ],
      "metadata": {
        "id": "yq6zSfh3h0F9"
      },
      "execution_count": 83,
      "outputs": []
    },
    {
      "cell_type": "code",
      "source": [
        "nltk.download('wordnet')"
      ],
      "metadata": {
        "colab": {
          "base_uri": "https://localhost:8080/"
        },
        "id": "cqAAk3IPh23N",
        "outputId": "925313e1-9b16-460b-b94b-1455b6776a57"
      },
      "execution_count": 85,
      "outputs": [
        {
          "output_type": "stream",
          "name": "stdout",
          "text": [
            "[nltk_data] Downloading package wordnet to /root/nltk_data...\n",
            "[nltk_data]   Unzipping corpora/wordnet.zip.\n"
          ]
        },
        {
          "output_type": "execute_result",
          "data": {
            "text/plain": [
              "True"
            ]
          },
          "metadata": {},
          "execution_count": 85
        }
      ]
    },
    {
      "cell_type": "code",
      "source": [
        "processed_text = preprocess(text)"
      ],
      "metadata": {
        "id": "kZO6OejRhqjg"
      },
      "execution_count": 86,
      "outputs": []
    },
    {
      "cell_type": "code",
      "source": [
        "train_X, test_X, train_y, test_y = train_test_split(processed_text, sentiment,\n",
        "                                                    test_size = 0.2, random_state = 0)\n",
        "print(f'Data Split done.')"
      ],
      "metadata": {
        "colab": {
          "base_uri": "https://localhost:8080/"
        },
        "id": "bFwQO2Y8iCE9",
        "outputId": "a52b6270-3954-418e-a705-cf72d129533f"
      },
      "execution_count": 89,
      "outputs": [
        {
          "output_type": "stream",
          "name": "stdout",
          "text": [
            "Data Split done.\n"
          ]
        }
      ]
    },
    {
      "cell_type": "code",
      "source": [
        "prediction = clf.predict(test_X)"
      ],
      "metadata": {
        "id": "sa-f6M5-ixpM"
      },
      "execution_count": 90,
      "outputs": []
    },
    {
      "cell_type": "code",
      "source": [
        "print('Test accuracy:', fit_model.score(test_X,test_y))"
      ],
      "metadata": {
        "colab": {
          "base_uri": "https://localhost:8080/"
        },
        "id": "rmXNH4d-i4Fe",
        "outputId": "00dafbba-7495-4628-a984-256a4458960c"
      },
      "execution_count": 92,
      "outputs": [
        {
          "output_type": "stream",
          "name": "stdout",
          "text": [
            "Test accuracy: 0.50099375\n"
          ]
        }
      ]
    },
    {
      "cell_type": "code",
      "source": [
        "print(classification_report(test_y,prediction))\n",
        "print(confusion_matrix(test_y,prediction))"
      ],
      "metadata": {
        "colab": {
          "base_uri": "https://localhost:8080/"
        },
        "id": "EJHU_gbjjr25",
        "outputId": "580555c7-2dc2-48ce-efec-6a636f0f360a"
      },
      "execution_count": 96,
      "outputs": [
        {
          "output_type": "stream",
          "name": "stdout",
          "text": [
            "              precision    recall  f1-score   support\n",
            "\n",
            "           0       0.85      0.00      0.00    159815\n",
            "           1       0.50      1.00      0.67    160185\n",
            "\n",
            "    accuracy                           0.50    320000\n",
            "   macro avg       0.68      0.50      0.33    320000\n",
            "weighted avg       0.68      0.50      0.34    320000\n",
            "\n",
            "[[   161 159654]\n",
            " [    28 160157]]\n"
          ]
        }
      ]
    },
    {
      "cell_type": "markdown",
      "source": [
        "# Test Our Model on Data-Set"
      ],
      "metadata": {
        "id": "Uu0NBw0pkRMl"
      }
    },
    {
      "cell_type": "code",
      "source": [
        "from tensorflow.keras.models import load_model"
      ],
      "metadata": {
        "id": "Tf2VxMxCkKK5"
      },
      "execution_count": 97,
      "outputs": []
    },
    {
      "cell_type": "code",
      "source": [
        "model = load_model('/content/Sentiment_Analysis_LSTM.hdf5',compile = False)"
      ],
      "metadata": {
        "id": "bin4P8SpkoYH"
      },
      "execution_count": 99,
      "outputs": []
    },
    {
      "cell_type": "code",
      "source": [
        "def preprocess(textdata):\n",
        "    processedText = []\n",
        "\n",
        "    # Defining dictionary containing all emojis with their meanings.\n",
        "    emojis = {':)': 'smile', ':-)': 'smile', ';d': 'wink', ':-E': 'vampire', ':(': 'sad', \n",
        "          ':-(': 'sad', ':-<': 'sad', ':P': 'raspberry', ':O': 'surprised',\n",
        "          ':-@': 'shocked', ':@': 'shocked',':-$': 'confused', ':\\\\': 'annoyed', \n",
        "          ':#': 'mute', ':X': 'mute', ':^)': 'smile', ':-&': 'confused', '$_$': 'greedy',\n",
        "          '@@': 'eyeroll', ':-!': 'confused', ':-D': 'smile', ':-0': 'yell', 'O.o': 'confused',\n",
        "          '<(-_-)>': 'robot', 'd[-_-]b': 'dj', \":'-)\": 'sadsmile', ';)': 'wink', \n",
        "          ';-)': 'wink', 'O:-)': 'angel','O*-)': 'angel','(:-D': 'gossip', '=^.^=': 'cat'}\n",
        "    stopwords_english = stopwords.words('english')\n",
        "    # Create Lemmatizer and Stemmer.\n",
        "    wordLemm = WordNetLemmatizer()\n",
        "    \n",
        "    # Defining regex patterns.\n",
        "    urlPattern        = r\"((http://)[^ ]*|(https://)[^ ]*|( www\\.)[^ ]*)\"\n",
        "    userPattern       = '@[^\\s]+'\n",
        "    alphaPattern      = \"[^a-zA-Z0-9]\"\n",
        "    sequencePattern   = r\"(.)\\1\\1+\"\n",
        "    seqReplacePattern = r\"\\1\\1\"\n",
        "    \n",
        "    for tweet in textdata:\n",
        "        tweet = tweet.lower()\n",
        "        \n",
        "        # Replace all URls with 'URL'\n",
        "        tweet = re.sub(urlPattern,' URL',tweet)\n",
        "        # Replace all emojis.\n",
        "        for emoji in emojis.keys():\n",
        "            tweet = tweet.replace(emoji, \"EMOJI\" + emojis[emoji])        \n",
        "        # Replace @USERNAME to 'USER'.\n",
        "        tweet = re.sub(userPattern,' USER', tweet)        \n",
        "        # Replace all non alphabets.\n",
        "        tweet = re.sub(alphaPattern, \" \", tweet)\n",
        "        # Replace 3 or more consecutive letters by 2 letter.\n",
        "        tweet = re.sub(sequencePattern, seqReplacePattern, tweet)\n",
        "\n",
        "        tweetwords = ''\n",
        "        for word in tweet.split():\n",
        "            # Checking if the word is a stopword.\n",
        "            #if word not in stopwordlist:\n",
        "            if (word not in stopwords_english):\n",
        "                # Lemmatizing the word.\n",
        "                word = wordLemm.lemmatize(word)\n",
        "                tweetwords += (word+' ')\n",
        "            \n",
        "        processedText.append(tweetwords)\n",
        "\n",
        "        \n",
        "    return processedText"
      ],
      "metadata": {
        "id": "Mm_iULCRlUcg"
      },
      "execution_count": 101,
      "outputs": []
    },
    {
      "cell_type": "code",
      "source": [
        "from keras.preprocessing.text import Tokenizer\n",
        "from keras.preprocessing.sequence import pad_sequences\n",
        "from keras.models import Sequential\n",
        "from keras.layers import Dense, Embedding, LSTM, SpatialDropout1D"
      ],
      "metadata": {
        "id": "XPf5asItl6NO"
      },
      "execution_count": 106,
      "outputs": []
    },
    {
      "cell_type": "code",
      "source": [
        "def extract_feature(process_text):\n",
        "      df = pd.DataFrame (process_text, columns = ['text'])\n",
        "      max_fatures = 5000\n",
        "      tokenizer = Tokenizer(num_words=max_fatures, split=' ')\n",
        "      tokenizer.fit_on_texts(df['text'].values)\n",
        "      to_seq = tokenizer.texts_to_sequences(df['text'].values)\n",
        "      pad_seq = pad_sequences(to_seq) # to make words at the same length \n",
        "      return pad_seq"
      ],
      "metadata": {
        "id": "KT0rhW9plU8O"
      },
      "execution_count": 107,
      "outputs": []
    },
    {
      "cell_type": "code",
      "source": [
        "def prdeiction_fun(sample_input):\n",
        "    df = pd.DataFrame (sample_input, columns = ['text'])\n",
        "    processed_text = preprocess(df)\n",
        "    extracted_text = extract_feature( processed_text)\n",
        "    prediction_text = model.predict(extracted_text)\n",
        "    print(prediction_text)"
      ],
      "metadata": {
        "id": "tI_WHraKlIE8"
      },
      "execution_count": 108,
      "outputs": []
    },
    {
      "cell_type": "code",
      "source": [
        "prdeiction_fun(X)   #first argument is loss & second argument is accuarcy "
      ],
      "metadata": {
        "colab": {
          "base_uri": "https://localhost:8080/"
        },
        "id": "M9UUYqTmlo4X",
        "outputId": "d4e0efcc-b6e4-44dd-c29e-5e558697e0c2"
      },
      "execution_count": 109,
      "outputs": [
        {
          "output_type": "stream",
          "name": "stdout",
          "text": [
            "WARNING:tensorflow:Model was constructed with shape (None, 48) for input KerasTensor(type_spec=TensorSpec(shape=(None, 48), dtype=tf.float32, name='embedding_input'), name='embedding_input', description=\"created by layer 'embedding_input'\"), but it was called on an input with incompatible shape (None, 1).\n",
            "[[0.33976623 0.66023374]]\n"
          ]
        }
      ]
    }
  ]
}